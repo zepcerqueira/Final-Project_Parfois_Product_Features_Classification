{
 "cells": [
  {
   "cell_type": "markdown",
   "metadata": {},
   "source": [
    "# 01. Setup and Load Data"
   ]
  },
  {
   "cell_type": "markdown",
   "metadata": {},
   "source": [
    "### 1.1 Dependencies Install and Setup"
   ]
  },
  {
   "cell_type": "code",
   "execution_count": 25,
   "metadata": {},
   "outputs": [],
   "source": [
    "#!pip install requests\n",
    "#!pip install beautifulsoup4"
   ]
  },
  {
   "cell_type": "code",
   "execution_count": 1,
   "metadata": {},
   "outputs": [],
   "source": [
    "import requests\n",
    "from bs4 import BeautifulSoup\n",
    "import pandas as pd\n",
    "import re\n",
    "import urllib.parse\n",
    "import os\n",
    "from urllib.parse import urlparse, urljoin\n",
    "import re\n"
   ]
  },
  {
   "cell_type": "markdown",
   "metadata": {},
   "source": [
    "### 1.2 Data Load"
   ]
  },
  {
   "cell_type": "markdown",
   "metadata": {},
   "source": [
    "##### Load xlsx file path and data frame creation"
   ]
  },
  {
   "cell_type": "code",
   "execution_count": 3,
   "metadata": {},
   "outputs": [],
   "source": [
    "product_ref_path = os.path.join(\"product_ref_call\", \"product_ref.xlsx\")\n",
    "\n",
    "#Routine for file check;\n",
    "\n",
    "if not os.path.exists(product_ref_path):\n",
    "    print(\"File Error: The file does not exist.\", product_ref_path)\n",
    "    exit()\n",
    "try:\n",
    "    product_ref_df = pd.read_excel(product_ref_path)\n",
    "except Exception as e:\n",
    "    print(\"Error reading the Excel file:\", e)\n",
    "    exit()"
   ]
  },
  {
   "cell_type": "code",
   "execution_count": 5,
   "metadata": {},
   "outputs": [
    {
     "data": {
      "text/html": [
       "<div>\n",
       "<style scoped>\n",
       "    .dataframe tbody tr th:only-of-type {\n",
       "        vertical-align: middle;\n",
       "    }\n",
       "\n",
       "    .dataframe tbody tr th {\n",
       "        vertical-align: top;\n",
       "    }\n",
       "\n",
       "    .dataframe thead th {\n",
       "        text-align: right;\n",
       "    }\n",
       "</style>\n",
       "<table border=\"1\" class=\"dataframe\">\n",
       "  <thead>\n",
       "    <tr style=\"text-align: right;\">\n",
       "      <th></th>\n",
       "      <th>season</th>\n",
       "      <th>week</th>\n",
       "      <th>prod_ref</th>\n",
       "      <th>Status</th>\n",
       "      <th>Última Etapa</th>\n",
       "      <th>Category</th>\n",
       "      <th>Family</th>\n",
       "      <th>Theme</th>\n",
       "      <th>Store Date Planned</th>\n",
       "      <th>Store Date Final</th>\n",
       "      <th>...</th>\n",
       "      <th>Data Aprovação modelo s/ reconhecimento</th>\n",
       "      <th>Data Repetição fotografia</th>\n",
       "      <th>TXTS Etapa 9</th>\n",
       "      <th>Data Repetição modelo</th>\n",
       "      <th>TXTS Etapa 10</th>\n",
       "      <th>Data Aprovação repetição</th>\n",
       "      <th>TXTS Etapa 11</th>\n",
       "      <th>Date Published</th>\n",
       "      <th># Fotos</th>\n",
       "      <th>Number of Units</th>\n",
       "    </tr>\n",
       "  </thead>\n",
       "  <tbody>\n",
       "    <tr>\n",
       "      <th>0</th>\n",
       "      <td>23 Fall/Winter</td>\n",
       "      <td>2023_45</td>\n",
       "      <td>214658_GY</td>\n",
       "      <td>Online: After Store Date</td>\n",
       "      <td>Published</td>\n",
       "      <td>Winter Textiles</td>\n",
       "      <td>Blanket Scarves</td>\n",
       "      <td>STARLIGHT</td>\n",
       "      <td>2023-11-01</td>\n",
       "      <td>2023-11-01</td>\n",
       "      <td>...</td>\n",
       "      <td>NaT</td>\n",
       "      <td>NaT</td>\n",
       "      <td>0.0</td>\n",
       "      <td>NaT</td>\n",
       "      <td>0.0</td>\n",
       "      <td>NaT</td>\n",
       "      <td>0.0</td>\n",
       "      <td>2023-11-15</td>\n",
       "      <td>6.0</td>\n",
       "      <td>Singular</td>\n",
       "    </tr>\n",
       "    <tr>\n",
       "      <th>1</th>\n",
       "      <td>23 Fall/Winter</td>\n",
       "      <td>2023_45</td>\n",
       "      <td>214658_LM</td>\n",
       "      <td>Online: After Store Date</td>\n",
       "      <td>Published</td>\n",
       "      <td>Winter Textiles</td>\n",
       "      <td>Blanket Scarves</td>\n",
       "      <td>STARLIGHT</td>\n",
       "      <td>2023-11-01</td>\n",
       "      <td>2023-11-01</td>\n",
       "      <td>...</td>\n",
       "      <td>NaT</td>\n",
       "      <td>NaT</td>\n",
       "      <td>0.0</td>\n",
       "      <td>NaT</td>\n",
       "      <td>0.0</td>\n",
       "      <td>NaT</td>\n",
       "      <td>0.0</td>\n",
       "      <td>2023-11-15</td>\n",
       "      <td>2.0</td>\n",
       "      <td>Singular</td>\n",
       "    </tr>\n",
       "    <tr>\n",
       "      <th>2</th>\n",
       "      <td>23 Fall/Winter</td>\n",
       "      <td>2023_45</td>\n",
       "      <td>214658_NV</td>\n",
       "      <td>Online: After Store Date</td>\n",
       "      <td>Published</td>\n",
       "      <td>Winter Textiles</td>\n",
       "      <td>Blanket Scarves</td>\n",
       "      <td>STARLIGHT</td>\n",
       "      <td>2023-11-01</td>\n",
       "      <td>2023-11-01</td>\n",
       "      <td>...</td>\n",
       "      <td>NaT</td>\n",
       "      <td>NaT</td>\n",
       "      <td>0.0</td>\n",
       "      <td>NaT</td>\n",
       "      <td>0.0</td>\n",
       "      <td>NaT</td>\n",
       "      <td>0.0</td>\n",
       "      <td>2023-11-15</td>\n",
       "      <td>2.0</td>\n",
       "      <td>Singular</td>\n",
       "    </tr>\n",
       "    <tr>\n",
       "      <th>3</th>\n",
       "      <td>23 Fall/Winter</td>\n",
       "      <td>2023_45</td>\n",
       "      <td>214687_DM</td>\n",
       "      <td>Online: OK</td>\n",
       "      <td>Published</td>\n",
       "      <td>Winter Textiles</td>\n",
       "      <td>Blanket Scarves</td>\n",
       "      <td>STARLIGHT</td>\n",
       "      <td>2023-11-01</td>\n",
       "      <td>2023-11-01</td>\n",
       "      <td>...</td>\n",
       "      <td>NaT</td>\n",
       "      <td>NaT</td>\n",
       "      <td>0.0</td>\n",
       "      <td>NaT</td>\n",
       "      <td>0.0</td>\n",
       "      <td>NaT</td>\n",
       "      <td>0.0</td>\n",
       "      <td>2023-10-28</td>\n",
       "      <td>2.0</td>\n",
       "      <td>Singular</td>\n",
       "    </tr>\n",
       "    <tr>\n",
       "      <th>4</th>\n",
       "      <td>23 Fall/Winter</td>\n",
       "      <td>2023_45</td>\n",
       "      <td>214688_GN</td>\n",
       "      <td>Online: After Store Date</td>\n",
       "      <td>Published</td>\n",
       "      <td>Winter Textiles</td>\n",
       "      <td>Blanket Scarves</td>\n",
       "      <td>KUSAMA</td>\n",
       "      <td>2023-11-01</td>\n",
       "      <td>2023-11-01</td>\n",
       "      <td>...</td>\n",
       "      <td>NaT</td>\n",
       "      <td>NaT</td>\n",
       "      <td>0.0</td>\n",
       "      <td>NaT</td>\n",
       "      <td>0.0</td>\n",
       "      <td>NaT</td>\n",
       "      <td>0.0</td>\n",
       "      <td>2023-11-15</td>\n",
       "      <td>5.0</td>\n",
       "      <td>Singular</td>\n",
       "    </tr>\n",
       "  </tbody>\n",
       "</table>\n",
       "<p>5 rows × 40 columns</p>\n",
       "</div>"
      ],
      "text/plain": [
       "           season     week   prod_ref                    Status Última Etapa  \\\n",
       "0  23 Fall/Winter  2023_45  214658_GY  Online: After Store Date    Published   \n",
       "1  23 Fall/Winter  2023_45  214658_LM  Online: After Store Date    Published   \n",
       "2  23 Fall/Winter  2023_45  214658_NV  Online: After Store Date    Published   \n",
       "3  23 Fall/Winter  2023_45  214687_DM                Online: OK    Published   \n",
       "4  23 Fall/Winter  2023_45  214688_GN  Online: After Store Date    Published   \n",
       "\n",
       "          Category           Family      Theme Store Date Planned  \\\n",
       "0  Winter Textiles  Blanket Scarves  STARLIGHT         2023-11-01   \n",
       "1  Winter Textiles  Blanket Scarves  STARLIGHT         2023-11-01   \n",
       "2  Winter Textiles  Blanket Scarves  STARLIGHT         2023-11-01   \n",
       "3  Winter Textiles  Blanket Scarves  STARLIGHT         2023-11-01   \n",
       "4  Winter Textiles  Blanket Scarves     KUSAMA         2023-11-01   \n",
       "\n",
       "  Store Date Final  ...  Data Aprovação modelo s/ reconhecimento  \\\n",
       "0       2023-11-01  ...                                      NaT   \n",
       "1       2023-11-01  ...                                      NaT   \n",
       "2       2023-11-01  ...                                      NaT   \n",
       "3       2023-11-01  ...                                      NaT   \n",
       "4       2023-11-01  ...                                      NaT   \n",
       "\n",
       "   Data Repetição fotografia  TXTS Etapa 9  Data Repetição modelo  \\\n",
       "0                        NaT           0.0                    NaT   \n",
       "1                        NaT           0.0                    NaT   \n",
       "2                        NaT           0.0                    NaT   \n",
       "3                        NaT           0.0                    NaT   \n",
       "4                        NaT           0.0                    NaT   \n",
       "\n",
       "   TXTS Etapa 10 Data Aprovação repetição TXTS Etapa 11 Date Published  \\\n",
       "0            0.0                      NaT           0.0     2023-11-15   \n",
       "1            0.0                      NaT           0.0     2023-11-15   \n",
       "2            0.0                      NaT           0.0     2023-11-15   \n",
       "3            0.0                      NaT           0.0     2023-10-28   \n",
       "4            0.0                      NaT           0.0     2023-11-15   \n",
       "\n",
       "  # Fotos Number of Units  \n",
       "0     6.0        Singular  \n",
       "1     2.0        Singular  \n",
       "2     2.0        Singular  \n",
       "3     2.0        Singular  \n",
       "4     5.0        Singular  \n",
       "\n",
       "[5 rows x 40 columns]"
      ]
     },
     "execution_count": 5,
     "metadata": {},
     "output_type": "execute_result"
    }
   ],
   "source": [
    "product_ref_df.head(5)"
   ]
  },
  {
   "cell_type": "markdown",
   "metadata": {},
   "source": [
    "# 02. Setup Web Scraping Tool"
   ]
  },
  {
   "cell_type": "markdown",
   "metadata": {},
   "source": [
    "### 1.1 Target data and directory creation"
   ]
  },
  {
   "cell_type": "code",
   "execution_count": 8,
   "metadata": {},
   "outputs": [],
   "source": [
    "page_url_01_list = []\n",
    "\n",
    "for index, row in product_ref_df.iterrows():\n",
    "    product_ref = row[\"prod_ref\"]\n",
    "    page_url_01 = f\"https://www.parfois.com/pt/pt/search/?q={product_ref}&lang=pt_PT\"\n",
    "    page_url_01_list.append(page_url_01)\n"
   ]
  },
  {
   "cell_type": "code",
   "execution_count": 9,
   "metadata": {},
   "outputs": [],
   "source": [
    "save_dir = \"downloaded_images\"\n",
    "os.makedirs(save_dir, exist_ok=True)"
   ]
  },
  {
   "cell_type": "markdown",
   "metadata": {},
   "source": [
    "### 1.2 Web Scrapping Run"
   ]
  },
  {
   "cell_type": "code",
   "execution_count": null,
   "metadata": {},
   "outputs": [],
   "source": [
    "for page_url_01 in page_url_01_list:\n",
    "    response_page_url_01 = requests.get(page_url_01)\n",
    "    soup_page_numbers = BeautifulSoup (response_page_url_01.content)\n",
    "    \n",
    "    parfois_components = soup_page_numbers.find_all(\"div\", class_=\"full-width clearfix\")\n",
    "    for component in parfois_components:\n",
    "        parfois_components2 = component.find_all(\"div\", class_=\"pdp-main\") #ok\n",
    "        \n",
    "        for component in parfois_components2:\n",
    "            parfois_components3 = component.find_all(\"div\", class_=\"product-col-1\") #ok\n",
    "            \n",
    "            for component in parfois_components3:\n",
    "                parfois_components4 = component.find_all(\"div\", class_=\"product-thumbnails\") #ok\n",
    "                \n",
    "                for component in parfois_components4:\n",
    "                    parfois_components5 = component.find_all(\"div\", class_=\"vertical-carousel\") #ok\n",
    "                    \n",
    "                    for component in parfois_components5:\n",
    "                        img_tags = component.find_all(\"li\", class_=\"thumb\")  #ok\n",
    "                        \n",
    "                        for li_tag in img_tags:\n",
    "                                img_tag = li_tag.find(\"img\", class_=\"productthumbnail seleccionada\")\n",
    "                                if img_tag:\n",
    "                                    img_url = img_tag[\"data-hi-res\"]\n",
    "                                    img_name = os.path.basename(urlparse(img_url).path)\n",
    "                                    img_path = os.path.join(\"downloaded_images\", img_name)\n",
    "\n",
    "                                    response = requests.get(img_url)\n",
    "                                    with open(img_path, \"wb\") as img_file:\n",
    "                                        img_file.write(response.content)\n",
    "\n"
   ]
  },
  {
   "cell_type": "markdown",
   "metadata": {},
   "source": [
    "### 1.3 Creation of a DF to check missing Ref. after the Web Scrapping Run"
   ]
  },
  {
   "cell_type": "markdown",
   "metadata": {},
   "source": [
    "##### There may be ref. no longer on the website or needing extra routine on the web scrapping tool"
   ]
  },
  {
   "cell_type": "code",
   "execution_count": 11,
   "metadata": {},
   "outputs": [],
   "source": [
    "downloaded_images_path = \"downloaded_images\"  \n",
    "\n",
    "existing_images = set(os.listdir(downloaded_images_path))\n",
    "\n",
    "image_downloaded_ref = pd.DataFrame(existing_images)\n",
    "\n",
    "image_downloaded_ref.rename(columns={0: \"image_file_name\"}, inplace=True)\n"
   ]
  },
  {
   "cell_type": "code",
   "execution_count": 13,
   "metadata": {},
   "outputs": [],
   "source": [
    "def standardise_file_names(filename):\n",
    "    match = re.match(r'^([^_]+_[^_]+)', filename)\n",
    "    if match:\n",
    "        return match.group(1)\n",
    "    else:\n",
    "        return filename"
   ]
  },
  {
   "cell_type": "code",
   "execution_count": 14,
   "metadata": {},
   "outputs": [],
   "source": [
    "image_downloaded_ref[\"image_file_name\"] = image_downloaded_ref[\"image_file_name\"].apply(standardise_file_names)\n",
    "image_downloaded_ref = image_downloaded_ref.drop_duplicates(subset=\"image_file_name\").reset_index(drop=True)"
   ]
  },
  {
   "cell_type": "code",
   "execution_count": 20,
   "metadata": {},
   "outputs": [],
   "source": [
    "product_ref_df[\"image_download_check\"] = product_ref_df[\"prod_ref\"].isin(image_downloaded_ref[\"image_file_name\"]).astype(int)\n"
   ]
  },
  {
   "cell_type": "markdown",
   "metadata": {},
   "source": [
    "##### After a manual check of the values 0 for the download check, we get products that are no longer on the website"
   ]
  },
  {
   "cell_type": "markdown",
   "metadata": {},
   "source": [
    "##### Next step is to run the model_run_for_image_collector.ipynb to get the model predictions"
   ]
  }
 ],
 "metadata": {
  "kernelspec": {
   "display_name": "Python 3",
   "language": "python",
   "name": "python3"
  },
  "language_info": {
   "codemirror_mode": {
    "name": "ipython",
    "version": 3
   },
   "file_extension": ".py",
   "mimetype": "text/x-python",
   "name": "python",
   "nbconvert_exporter": "python",
   "pygments_lexer": "ipython3",
   "version": "3.11.3"
  }
 },
 "nbformat": 4,
 "nbformat_minor": 2
}
